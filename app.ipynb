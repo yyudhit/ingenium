{
 "cells": [
  {
   "cell_type": "code",
   "execution_count": 11,
   "id": "6a8463d2-9945-445a-b16d-be9da3c73b95",
   "metadata": {},
   "outputs": [
    {
     "name": "stdout",
     "output_type": "stream",
     "text": [
      "Model loaded and compiled with the optimizer state.\n"
     ]
    },
    {
     "data": {
      "application/vnd.jupyter.widget-view+json": {
       "model_id": "8e00f50f5f2b42f6bca54d45f7a90ca0",
       "version_major": 2,
       "version_minor": 0
      },
      "text/plain": [
       "HBox(children=(VBox(children=(FloatText(value=1.0, description='patient_age'), FloatText(value=1.0, descriptio…"
      ]
     },
     "metadata": {},
     "output_type": "display_data"
    },
    {
     "data": {
      "application/vnd.jupyter.widget-view+json": {
       "model_id": "6902cc02c1754893a07a86f7824ea5b6",
       "version_major": 2,
       "version_minor": 0
      },
      "text/plain": [
       "Button(description='Predict Therapy', style=ButtonStyle())"
      ]
     },
     "metadata": {},
     "output_type": "display_data"
    },
    {
     "data": {
      "application/vnd.jupyter.widget-view+json": {
       "model_id": "ee1238b23a9d4ea2a5d3bb22db90c184",
       "version_major": 2,
       "version_minor": 0
      },
      "text/plain": [
       "Label(value='')"
      ]
     },
     "metadata": {},
     "output_type": "display_data"
    }
   ],
   "source": [
    "import ipywidgets as widgets\n",
    "from IPython.display import display\n",
    "import numpy as np\n",
    "import pandas as pd\n",
    "import tensorflow as tf\n",
    "\n",
    "# Load the dataset\n",
    "data_path = 'final_hcc_data_cleaned.csv'\n",
    "data = pd.read_csv(data_path)\n",
    "\n",
    "# Assume the last column is not needed for the model input\n",
    "data = data.iloc[:, :-1]  # Exclude the last column\n",
    "\n",
    "# Assume the last row of data is what we'll use for initial values\n",
    "initial_values = data.iloc[-1].values\n",
    "\n",
    "# Load the previously saved model\n",
    "model = tf.keras.models.load_model('hcc_treatment_dqn_model.keras', compile=False)\n",
    "\n",
    "# Try to compile the model with appropriate configurations\n",
    "try:\n",
    "    model.compile(optimizer='adam', loss='binary_crossentropy', metrics=['accuracy'])\n",
    "    print(\"Model loaded and compiled with the optimizer state.\")\n",
    "except Exception as e:\n",
    "    print(f\"Error during model compilation: {str(e)}\")\n",
    "\n",
    "# Define labels from the dataset columns\n",
    "labels = data.columns.tolist()\n",
    "\n",
    "# Create input widgets for all features with specific labels and initial values\n",
    "input_widgets = [widgets.FloatText(value=round(val, 2), description=str(label)) for val, label in zip(initial_values, labels)]\n",
    "\n",
    "# Arrange widgets into three columns\n",
    "column1 = widgets.VBox(input_widgets[:17])\n",
    "column2 = widgets.VBox(input_widgets[17:34])\n",
    "column3 = widgets.VBox(input_widgets[34:])\n",
    "\n",
    "output_label = widgets.Label()  # To display predictions\n",
    "\n",
    "def predict_treatment(button):\n",
    "    # Collect inputs from all widgets and form an array of shape (1, number of features)\n",
    "    input_values = np.array([[widget.value for widget in input_widgets]])\n",
    "    \n",
    "    try:\n",
    "        prediction = model.predict(input_values)\n",
    "        predicted_action = np.argmax(prediction[0])\n",
    "        treatment_type = 'Aggressive' if predicted_action == 1 else 'Conservative'\n",
    "        specific_treatment = \"Surgery, Ablation, or Chemotherapy\" if treatment_type == 'Aggressive' else \"Sorafenib medication or Supportive care\"\n",
    "        output_label.value = f\"Recommended Therapy: {treatment_type}, Specific Treatment: {specific_treatment}\"\n",
    "    except Exception as e:\n",
    "        output_label.value = f\"Error: {str(e)}\"\n",
    "\n",
    "# Button to trigger prediction\n",
    "predict_button = widgets.Button(description='Predict Therapy')\n",
    "predict_button.on_click(predict_treatment)\n",
    "\n",
    "# Display widgets and output\n",
    "widget_layout = widgets.HBox([column1, column2, column3])\n",
    "display(widget_layout)\n",
    "display(predict_button)\n",
    "display(output_label)\n"
   ]
  },
  {
   "cell_type": "code",
   "execution_count": null,
   "id": "aa8a72fd-b50a-42e5-b97c-5c791fbdae09",
   "metadata": {},
   "outputs": [],
   "source": [
    "!voila app2.ipynb"
   ]
  },
  {
   "cell_type": "code",
   "execution_count": null,
   "id": "384c9c5d-38d2-4ef7-b81a-b3231dc7ca63",
   "metadata": {},
   "outputs": [],
   "source": []
  }
 ],
 "metadata": {
  "kernelspec": {
   "display_name": "Python 3 (ipykernel)",
   "language": "python",
   "name": "python3"
  },
  "language_info": {
   "codemirror_mode": {
    "name": "ipython",
    "version": 3
   },
   "file_extension": ".py",
   "mimetype": "text/x-python",
   "name": "python",
   "nbconvert_exporter": "python",
   "pygments_lexer": "ipython3",
   "version": "3.11.7"
  }
 },
 "nbformat": 4,
 "nbformat_minor": 5
}
